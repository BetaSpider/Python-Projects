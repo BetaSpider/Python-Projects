{
 "cells": [
  {
   "cell_type": "code",
   "execution_count": 6,
   "id": "5eee439a",
   "metadata": {},
   "outputs": [
    {
     "name": "stdout",
     "output_type": "stream",
     "text": [
      "Numbers to find std deviation\n",
      "45 26 34 78 95 23 65 \n",
      "The standard deviation for the given list is: 0    27.638827\n",
      "dtype: float64\n"
     ]
    }
   ],
   "source": [
    "import pandas as pd\n",
    "\n",
    "numbers=[45,26,34,78,95,23,65]\n",
    "df=pd.DataFrame(numbers)\n",
    "\n",
    "std_dev=df.std()\n",
    "print(\"Numbers to find std deviation\")\n",
    "\n",
    "for i in numbers:\n",
    "    \n",
    "    print(i, end=\" \")\n",
    "\n",
    "print()\n",
    "\n",
    "print(\"The standard deviation for the given list is:\",std_dev)\n"
   ]
  },
  {
   "cell_type": "code",
   "execution_count": 7,
   "id": "5fc7bb16",
   "metadata": {},
   "outputs": [
    {
     "name": "stdout",
     "output_type": "stream",
     "text": [
      "The list of numbers\n",
      "46 25 89 49 23 \n",
      "The standard deviation is: 26.585710447531774\n"
     ]
    }
   ],
   "source": [
    "import statistics as st\n",
    "find_list=[46,25,89,49,23]\n",
    "\n",
    "res=st.stdev(find_list)\n",
    "\n",
    "print(\"The list of numbers\")\n",
    "for i in find_list:\n",
    "    print(i, end=\" \")\n",
    "print()\n",
    "\n",
    "print(\"The standard deviation is:\", res)"
   ]
  },
  {
   "cell_type": "code",
   "execution_count": 8,
   "id": "9b1123fa",
   "metadata": {},
   "outputs": [
    {
     "name": "stdout",
     "output_type": "stream",
     "text": [
      "The list to find standard deviataion\n",
      "46 23 12 15 45 89 \n",
      "The standard deviation for the given list is: 26.278423764669668\n"
     ]
    }
   ],
   "source": [
    "import numpy as np\n",
    "nos=[46,23,12,15,45,89]\n",
    "\n",
    "ans=np.std(nos)\n",
    "\n",
    "print(\"The list to find standard deviataion\")\n",
    "for i in nos:\n",
    "    print(i, end=\" \")\n",
    "\n",
    "print()\n",
    "print(\"The standard deviation for the given list is:\", ans)    "
   ]
  },
  {
   "cell_type": "code",
   "execution_count": null,
   "id": "9a6ad1a2",
   "metadata": {},
   "outputs": [],
   "source": []
  }
 ],
 "metadata": {
  "kernelspec": {
   "display_name": "Python 3 (ipykernel)",
   "language": "python",
   "name": "python3"
  },
  "language_info": {
   "codemirror_mode": {
    "name": "ipython",
    "version": 3
   },
   "file_extension": ".py",
   "mimetype": "text/x-python",
   "name": "python",
   "nbconvert_exporter": "python",
   "pygments_lexer": "ipython3",
   "version": "3.7.6"
  }
 },
 "nbformat": 4,
 "nbformat_minor": 5
}
