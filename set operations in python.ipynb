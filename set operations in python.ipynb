{
 "cells": [
  {
   "cell_type": "markdown",
   "id": "84117c87",
   "metadata": {},
   "source": [
    "# set operation: Union using operator ('|')"
   ]
  },
  {
   "cell_type": "code",
   "execution_count": 4,
   "id": "4985855a",
   "metadata": {},
   "outputs": [
    {
     "name": "stdout",
     "output_type": "stream",
     "text": [
      "The union of the given sets: {1, 'A', 4, 6, 8, 9, 'y', 'R', 'c'}\n"
     ]
    }
   ],
   "source": [
    "set1={1,6,'A','R',4}\n",
    "set2={9,8,'c',8,'y'}\n",
    "set_union=set1|set2\n",
    "print(\"The union of the given sets:\",set_union)"
   ]
  },
  {
   "cell_type": "markdown",
   "id": "e4fdf4bd",
   "metadata": {},
   "source": [
    "# using union() function"
   ]
  },
  {
   "cell_type": "code",
   "execution_count": 7,
   "id": "d78f6aba",
   "metadata": {},
   "outputs": [
    {
     "name": "stdout",
     "output_type": "stream",
     "text": [
      "The union of the given set is: {2, 3, 5, 6, 8, 9}\n"
     ]
    }
   ],
   "source": [
    "set1={5,9,6,8}\n",
    "set2={5,8,3,2}\n",
    "print(\"The union of the given set is:\",set1.union(set2))"
   ]
  },
  {
   "cell_type": "markdown",
   "id": "53e279c7",
   "metadata": {},
   "source": [
    "# intersection using operator ('&')"
   ]
  },
  {
   "cell_type": "code",
   "execution_count": 8,
   "id": "bb864988",
   "metadata": {},
   "outputs": [
    {
     "name": "stdout",
     "output_type": "stream",
     "text": [
      "The intersection of the given sets: {'A', 5}\n"
     ]
    }
   ],
   "source": [
    "set1={'A',6,5,'D'}\n",
    "set2={'A',9,5,'G'}\n",
    "set_intersection=set1&set2\n",
    "print(\"The intersection of the given sets:\", set_intersection)"
   ]
  },
  {
   "cell_type": "markdown",
   "id": "94c0fc51",
   "metadata": {},
   "source": [
    "# intersection using intersection() function"
   ]
  },
  {
   "cell_type": "code",
   "execution_count": 9,
   "id": "e1ca6326",
   "metadata": {},
   "outputs": [
    {
     "name": "stdout",
     "output_type": "stream",
     "text": [
      "The intersection is: {'A', 5}\n"
     ]
    }
   ],
   "source": [
    "set1={'A',6,5,'D'}\n",
    "set2={'A',9,5,'G'}\n",
    "print(\"The intersection is:\", set1.intersection(set2))\n"
   ]
  },
  {
   "cell_type": "markdown",
   "id": "cb56897a",
   "metadata": {},
   "source": [
    "# difference using '-' operator hint: takes only first set"
   ]
  },
  {
   "cell_type": "code",
   "execution_count": 12,
   "id": "01179570",
   "metadata": {},
   "outputs": [
    {
     "name": "stdout",
     "output_type": "stream",
     "text": [
      "The difference is: {'D', 6, 8, 'y', 122}\n"
     ]
    }
   ],
   "source": [
    "set1={'A',6,5,'D',8,'y',122}\n",
    "set2={'A',9,5,'G'}\n",
    "print(\"The difference is:\", set1-set2)\n"
   ]
  },
  {
   "cell_type": "markdown",
   "id": "4478c5e6",
   "metadata": {},
   "source": [
    "# difference using difference() function"
   ]
  },
  {
   "cell_type": "code",
   "execution_count": 14,
   "id": "7d0c9c3f",
   "metadata": {},
   "outputs": [
    {
     "name": "stdout",
     "output_type": "stream",
     "text": [
      "The difference is: {'D', 6, 'z', 10, 'e'}\n"
     ]
    }
   ],
   "source": [
    "set1={'A',6,5,'D',10,'z','e'}\n",
    "set2={'A',9,5,'G'}\n",
    "print(\"The difference is:\", set1.difference(set2))\n"
   ]
  },
  {
   "cell_type": "markdown",
   "id": "a1b8937e",
   "metadata": {},
   "source": [
    "# symmetric difference using ^ operator\n",
    "\n"
   ]
  },
  {
   "cell_type": "code",
   "execution_count": 15,
   "id": "9ccc7506",
   "metadata": {},
   "outputs": [
    {
     "name": "stdout",
     "output_type": "stream",
     "text": [
      "The symetric difference is: {'D', 6, 'z', 9, 10, 'e', 'G'}\n"
     ]
    }
   ],
   "source": [
    "set1={'A',6,5,'D',10,'z','e'}\n",
    "set2={'A',9,5,'G'}\n",
    "print(\"The symetric difference is:\", set1 ^ set2)"
   ]
  },
  {
   "cell_type": "markdown",
   "id": "37e46c23",
   "metadata": {},
   "source": [
    "# symmetric difference using symmetric_difference() function"
   ]
  },
  {
   "cell_type": "code",
   "execution_count": 16,
   "id": "1cee03a5",
   "metadata": {},
   "outputs": [
    {
     "name": "stdout",
     "output_type": "stream",
     "text": [
      "The symmetric difference is: {'D', 6, 'z', 9, 10, 'e', 'G'}\n"
     ]
    }
   ],
   "source": [
    "set1={'A',6,5,'D',10,'z','e'}\n",
    "set2={'A',9,5,'G'}\n",
    "print(\"The symmetric difference is:\", set1.symmetric_difference(set2))"
   ]
  },
  {
   "cell_type": "code",
   "execution_count": null,
   "id": "cb3532db",
   "metadata": {},
   "outputs": [],
   "source": []
  }
 ],
 "metadata": {
  "kernelspec": {
   "display_name": "Python 3 (ipykernel)",
   "language": "python",
   "name": "python3"
  },
  "language_info": {
   "codemirror_mode": {
    "name": "ipython",
    "version": 3
   },
   "file_extension": ".py",
   "mimetype": "text/x-python",
   "name": "python",
   "nbconvert_exporter": "python",
   "pygments_lexer": "ipython3",
   "version": "3.7.6"
  }
 },
 "nbformat": 4,
 "nbformat_minor": 5
}
